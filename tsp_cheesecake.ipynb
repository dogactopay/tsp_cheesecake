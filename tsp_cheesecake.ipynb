{
 "cells": [
  {
   "cell_type": "markdown",
   "metadata": {},
   "source": [
    "<div style='text-align:center'><h1>ISE 316 HOMEWORK-2</h1><div>"
   ]
  },
  {
   "cell_type": "markdown",
   "metadata": {},
   "source": [
    "<div style=\"text-align: right\"> Doğaç TOPAY <br> 20170703029 </div>"
   ]
  },
  {
   "cell_type": "markdown",
   "metadata": {},
   "source": [
    "### Question 1"
   ]
  },
  {
   "cell_type": "markdown",
   "metadata": {},
   "source": [
    "####   Consider the cheesecake delivery problem introduced in the lecture notes where there are 11 nodes: 1 bakery and 10 customers (see lecture notes)."
   ]
  },
  {
   "cell_type": "markdown",
   "metadata": {},
   "source": [
    "##### Q1.1  How do you characterize a feasible solution if customers 3 and 5 should be visited consecutively? (the order does not matter)"
   ]
  },
  {
   "cell_type": "markdown",
   "metadata": {},
   "source": [
    "> I may assume that customer 3 and 5 is a single customer, I would think that these are package like [3,5] or [5,3] I would decide that which combination I should use regarding to the feasible solutions.Assuming this nodes single will be result always the packageman certainly visit them consecutively."
   ]
  },
  {
   "cell_type": "markdown",
   "metadata": {},
   "source": [
    "##### Q1.2  How many feasible solutions are there?"
   ]
  },
  {
   "cell_type": "markdown",
   "metadata": {},
   "source": [
    "> There are 10! feasible solutions.However, if we are assuming it based on previous question there are 2 x 9! solutions."
   ]
  },
  {
   "cell_type": "markdown",
   "metadata": {},
   "source": [
    "### Question 2"
   ]
  },
  {
   "cell_type": "markdown",
   "metadata": {},
   "source": [
    "#### Consider the graph shown below that represents 8 points to be included in a TSP (traveling salesperson) problem and the table that shows the length of the directed edges. (Write a python code for the following parts)"
   ]
  },
  {
   "cell_type": "markdown",
   "metadata": {},
   "source": [
    "##### Q2.1  Considering that the eventual goal is to construct a TSP tour, write a python code to complete the missing entries of the distance matrix (used to solve the TSP) by finding the length of the shortest paths for the corresponding node pairs (use networkx package)."
   ]
  },
  {
   "cell_type": "code",
   "execution_count": 355,
   "metadata": {},
   "outputs": [],
   "source": [
    "import networkx as nx\n",
    "import matplotlib.pyplot as plt\n",
    "import numpy as np\n",
    "import random\n",
    "import pandas as pd"
   ]
  },
  {
   "cell_type": "code",
   "execution_count": 356,
   "metadata": {},
   "outputs": [],
   "source": [
    "edges = [('1','2',134), ('1','5',72), ('1','6',171),\n",
    "         ('2','1',150),('2','3',136),\n",
    "         ('3','4',173), ('3','7',80),('3','8',173),\n",
    "         ('4','2',186),('4','5',152),\n",
    "         ('5','7',167), ('5','8',191),\n",
    "         ('6','3',33), ('6','7',94),\n",
    "         ('7','4',74),('7','8',146) ,\n",
    "         ('8','2',25),('8','7',135)]"
   ]
  },
  {
   "cell_type": "code",
   "execution_count": 357,
   "metadata": {},
   "outputs": [],
   "source": [
    "G=nx.DiGraph()"
   ]
  },
  {
   "cell_type": "code",
   "execution_count": 358,
   "metadata": {},
   "outputs": [],
   "source": [
    "G.add_weighted_edges_from(edges)"
   ]
  },
  {
   "cell_type": "code",
   "execution_count": 359,
   "metadata": {},
   "outputs": [
    {
     "data": {
      "image/png": "[encoded data removed]",
      "text/plain": [
       "<Figure size 432x288 with 1 Axes>"
      ]
     },
     "metadata": {},
     "output_type": "display_data"
    }
   ],
   "source": [
    "pos = nx.spring_layout(G,scale=1)\n",
    "nx.draw_networkx_nodes(G, pos)\n",
    "nx.draw_networkx_edges(G, pos)\n",
    "nx.draw_networkx_labels(G, pos)\n",
    "plt.show()"
   ]
  },
  {
   "cell_type": "code",
   "execution_count": 514,
   "metadata": {},
   "outputs": [],
   "source": [
    "def sync(edges):\n",
    "    a=np.zeros([8,8])\n",
    "\n",
    "    for i,j in enumerate(edges):\n",
    "        m=int(edges[i][0])\n",
    "        k=int(edges[i][1])\n",
    "        l=int(edges[i][2])\n",
    "        a[m-1,k-1]=l \n",
    "\n",
    "    for i in range(len(a)):\n",
    "        for j in range(len(a)):\n",
    "            if i!=j and a[i][j]==0:\n",
    "                a[i][j]=nx.dijkstra_path_length(G,'{}'.format(i+1),'{}'.format(j+1))\n",
    "    z=pd.DataFrame(a,columns=[i for i in range(1,9)],index=[i for i in range(1,9)])\n",
    "                \n",
    "    return a\n",
    "\n",
    "a=sync(edges)"
   ]
  },
  {
   "cell_type": "code",
   "execution_count": 516,
   "metadata": {},
   "outputs": [
    {
     "data": {
      "text/html": [
       "<div>\n",
       "<style scoped>\n",
       "    .dataframe tbody tr th:only-of-type {\n",
       "        vertical-align: middle;\n",
       "    }\n",
       "\n",
       "    .dataframe tbody tr th {\n",
       "        vertical-align: top;\n",
       "    }\n",
       "\n",
       "    .dataframe thead th {\n",
       "        text-align: right;\n",
       "    }\n",
       "</style>\n",
       "<table border=\"1\" class=\"dataframe\">\n",
       "  <thead>\n",
       "    <tr style=\"text-align: right;\">\n",
       "      <th></th>\n",
       "      <th>1</th>\n",
       "      <th>2</th>\n",
       "      <th>3</th>\n",
       "      <th>4</th>\n",
       "      <th>5</th>\n",
       "      <th>6</th>\n",
       "      <th>7</th>\n",
       "      <th>8</th>\n",
       "    </tr>\n",
       "  </thead>\n",
       "  <tbody>\n",
       "    <tr>\n",
       "      <th>1</th>\n",
       "      <td>0.0</td>\n",
       "      <td>134.0</td>\n",
       "      <td>204.0</td>\n",
       "      <td>313.0</td>\n",
       "      <td>72.0</td>\n",
       "      <td>171.0</td>\n",
       "      <td>239.0</td>\n",
       "      <td>263.0</td>\n",
       "    </tr>\n",
       "    <tr>\n",
       "      <th>2</th>\n",
       "      <td>150.0</td>\n",
       "      <td>0.0</td>\n",
       "      <td>136.0</td>\n",
       "      <td>290.0</td>\n",
       "      <td>222.0</td>\n",
       "      <td>321.0</td>\n",
       "      <td>216.0</td>\n",
       "      <td>309.0</td>\n",
       "    </tr>\n",
       "    <tr>\n",
       "      <th>3</th>\n",
       "      <td>348.0</td>\n",
       "      <td>198.0</td>\n",
       "      <td>0.0</td>\n",
       "      <td>173.0</td>\n",
       "      <td>306.0</td>\n",
       "      <td>519.0</td>\n",
       "      <td>80.0</td>\n",
       "      <td>173.0</td>\n",
       "    </tr>\n",
       "    <tr>\n",
       "      <th>4</th>\n",
       "      <td>336.0</td>\n",
       "      <td>186.0</td>\n",
       "      <td>322.0</td>\n",
       "      <td>0.0</td>\n",
       "      <td>152.0</td>\n",
       "      <td>507.0</td>\n",
       "      <td>319.0</td>\n",
       "      <td>343.0</td>\n",
       "    </tr>\n",
       "    <tr>\n",
       "      <th>5</th>\n",
       "      <td>366.0</td>\n",
       "      <td>216.0</td>\n",
       "      <td>352.0</td>\n",
       "      <td>241.0</td>\n",
       "      <td>0.0</td>\n",
       "      <td>537.0</td>\n",
       "      <td>167.0</td>\n",
       "      <td>191.0</td>\n",
       "    </tr>\n",
       "    <tr>\n",
       "      <th>6</th>\n",
       "      <td>381.0</td>\n",
       "      <td>231.0</td>\n",
       "      <td>33.0</td>\n",
       "      <td>168.0</td>\n",
       "      <td>320.0</td>\n",
       "      <td>0.0</td>\n",
       "      <td>94.0</td>\n",
       "      <td>206.0</td>\n",
       "    </tr>\n",
       "    <tr>\n",
       "      <th>7</th>\n",
       "      <td>321.0</td>\n",
       "      <td>171.0</td>\n",
       "      <td>307.0</td>\n",
       "      <td>74.0</td>\n",
       "      <td>226.0</td>\n",
       "      <td>492.0</td>\n",
       "      <td>0.0</td>\n",
       "      <td>146.0</td>\n",
       "    </tr>\n",
       "    <tr>\n",
       "      <th>8</th>\n",
       "      <td>175.0</td>\n",
       "      <td>25.0</td>\n",
       "      <td>161.0</td>\n",
       "      <td>209.0</td>\n",
       "      <td>247.0</td>\n",
       "      <td>346.0</td>\n",
       "      <td>135.0</td>\n",
       "      <td>0.0</td>\n",
       "    </tr>\n",
       "  </tbody>\n",
       "</table>\n",
       "</div>"
      ],
      "text/plain": [
       "       1      2      3      4      5      6      7      8\n",
       "1    0.0  134.0  204.0  313.0   72.0  171.0  239.0  263.0\n",
       "2  150.0    0.0  136.0  290.0  222.0  321.0  216.0  309.0\n",
       "3  348.0  198.0    0.0  173.0  306.0  519.0   80.0  173.0\n",
       "4  336.0  186.0  322.0    0.0  152.0  507.0  319.0  343.0\n",
       "5  366.0  216.0  352.0  241.0    0.0  537.0  167.0  191.0\n",
       "6  381.0  231.0   33.0  168.0  320.0    0.0   94.0  206.0\n",
       "7  321.0  171.0  307.0   74.0  226.0  492.0    0.0  146.0\n",
       "8  175.0   25.0  161.0  209.0  247.0  346.0  135.0    0.0"
      ]
     },
     "execution_count": 516,
     "metadata": {},
     "output_type": "execute_result"
    }
   ],
   "source": [
    "z=pd.DataFrame(a,columns=[i for i in range(1,9)],index=[i for i in range(1,9)])\n",
    "z"
   ]
  },
  {
   "cell_type": "markdown",
   "metadata": {},
   "source": [
    "##### Q2.2  Find a TSP tour by using the nearest neighbor algorithm."
   ]
  },
  {
   "cell_type": "code",
   "execution_count": 538,
   "metadata": {},
   "outputs": [
    {
     "name": "stdout",
     "output_type": "stream",
     "text": [
      "########### RESULTS ########### \n",
      " \n",
      "\n",
      "Starting the tour from 1, total path length is 1154.0\n",
      "[1, 5, 7, 4, 2, 3, 8, 6] \n",
      "\n",
      "******************** \n",
      "\n",
      "Starting the tour from 2, total path length is 979.0\n",
      "[2, 3, 7, 4, 5, 8, 1, 6] \n",
      "\n",
      "******************** \n",
      "\n",
      "Starting the tour from 3, total path length is 843.0\n",
      "[3, 7, 4, 5, 8, 2, 1, 6] \n",
      "\n",
      "******************** \n",
      "\n",
      "Starting the tour from 4, total path length is 1145.0\n",
      "[4, 5, 7, 8, 2, 3, 1, 6] \n",
      "\n",
      "******************** \n",
      "\n",
      "Starting the tour from 5, total path length is 1082.0\n",
      "[5, 7, 4, 2, 3, 8, 1, 6] \n",
      "\n",
      "******************** \n",
      "\n",
      "Starting the tour from 6, total path length is 705.0\n",
      "[6, 3, 7, 4, 5, 8, 2, 1] \n",
      "\n",
      "******************** \n",
      "\n",
      "Starting the tour from 7, total path length is 1097.0\n",
      "[7, 4, 5, 8, 2, 3, 1, 6] \n",
      "\n",
      "******************** \n",
      "\n",
      "Starting the tour from 8, total path length is 1004.0\n",
      "[8, 2, 3, 7, 4, 5, 1, 6] \n",
      "\n",
      "******************** \n",
      "\n"
     ]
    }
   ],
   "source": [
    "print('########### RESULTS ########### \\n \\n')\n",
    "paths=[]\n",
    "a[a==0]=900\n",
    "for l in range(len(a)):\n",
    "    a=sync(edges)\n",
    "    tours=[]\n",
    "    total_length=0\n",
    "    lim=0\n",
    "    current=l\n",
    "    tours.append(current+1)\n",
    "    while lim<len(a)-1:\n",
    "        sh=np.argmin(a[current])\n",
    "        m=0\n",
    "        while m<1:\n",
    "            sh=np.argmin(a[current])\n",
    "            if sh+1 in tours:\n",
    "                a[current][sh]=999\n",
    "            else:\n",
    "                m=m+1\n",
    "\n",
    "        sh=np.argmin(a[current])\n",
    "        tours.append(sh+1)\n",
    "        total_length+=a[current][sh]\n",
    "        current=sh\n",
    "        lim+=1\n",
    "    paths.append(total_length)\n",
    "    print(f\"Starting the tour from {l+1}, total path length is {total_length}\")\n",
    "    print(tours,\"\\n\")\n",
    "    print(\"**\"*10,\"\\n\")\n",
    "a=sync(edges)\n",
    "z=pd.DataFrame(a,columns=[i for i in range(1,9)],index=[i for i in range(1,9)])"
   ]
  },
  {
   "cell_type": "code",
   "execution_count": 532,
   "metadata": {},
   "outputs": [
    {
     "name": "stdout",
     "output_type": "stream",
     "text": [
      "The shortest tour is starting from 6 and the length is 705.0\n"
     ]
    }
   ],
   "source": [
    "print(f\"The shortest tour is starting from {np.argmin(paths)+1} and the length is {min(paths)}\")"
   ]
  },
  {
   "cell_type": "code",
   "execution_count": 537,
   "metadata": {},
   "outputs": [
    {
     "data": {
      "text/html": [
       "<div>\n",
       "<style scoped>\n",
       "    .dataframe tbody tr th:only-of-type {\n",
       "        vertical-align: middle;\n",
       "    }\n",
       "\n",
       "    .dataframe tbody tr th {\n",
       "        vertical-align: top;\n",
       "    }\n",
       "\n",
       "    .dataframe thead th {\n",
       "        text-align: right;\n",
       "    }\n",
       "</style>\n",
       "<table border=\"1\" class=\"dataframe\">\n",
       "  <thead>\n",
       "    <tr style=\"text-align: right;\">\n",
       "      <th></th>\n",
       "      <th>1</th>\n",
       "      <th>2</th>\n",
       "      <th>3</th>\n",
       "      <th>4</th>\n",
       "      <th>5</th>\n",
       "      <th>6</th>\n",
       "      <th>7</th>\n",
       "      <th>8</th>\n",
       "    </tr>\n",
       "  </thead>\n",
       "  <tbody>\n",
       "    <tr>\n",
       "      <th>1</th>\n",
       "      <td>0.0</td>\n",
       "      <td>134.0</td>\n",
       "      <td>204.0</td>\n",
       "      <td>313.0</td>\n",
       "      <td>72.0</td>\n",
       "      <td>171.0</td>\n",
       "      <td>239.0</td>\n",
       "      <td>263.0</td>\n",
       "    </tr>\n",
       "    <tr>\n",
       "      <th>2</th>\n",
       "      <td>150.0</td>\n",
       "      <td>0.0</td>\n",
       "      <td>136.0</td>\n",
       "      <td>290.0</td>\n",
       "      <td>222.0</td>\n",
       "      <td>321.0</td>\n",
       "      <td>216.0</td>\n",
       "      <td>309.0</td>\n",
       "    </tr>\n",
       "    <tr>\n",
       "      <th>3</th>\n",
       "      <td>348.0</td>\n",
       "      <td>198.0</td>\n",
       "      <td>0.0</td>\n",
       "      <td>173.0</td>\n",
       "      <td>306.0</td>\n",
       "      <td>519.0</td>\n",
       "      <td>80.0</td>\n",
       "      <td>173.0</td>\n",
       "    </tr>\n",
       "    <tr>\n",
       "      <th>4</th>\n",
       "      <td>336.0</td>\n",
       "      <td>186.0</td>\n",
       "      <td>322.0</td>\n",
       "      <td>0.0</td>\n",
       "      <td>152.0</td>\n",
       "      <td>507.0</td>\n",
       "      <td>319.0</td>\n",
       "      <td>343.0</td>\n",
       "    </tr>\n",
       "    <tr>\n",
       "      <th>5</th>\n",
       "      <td>366.0</td>\n",
       "      <td>216.0</td>\n",
       "      <td>352.0</td>\n",
       "      <td>241.0</td>\n",
       "      <td>0.0</td>\n",
       "      <td>537.0</td>\n",
       "      <td>167.0</td>\n",
       "      <td>191.0</td>\n",
       "    </tr>\n",
       "    <tr>\n",
       "      <th>6</th>\n",
       "      <td>381.0</td>\n",
       "      <td>231.0</td>\n",
       "      <td>33.0</td>\n",
       "      <td>168.0</td>\n",
       "      <td>320.0</td>\n",
       "      <td>0.0</td>\n",
       "      <td>94.0</td>\n",
       "      <td>206.0</td>\n",
       "    </tr>\n",
       "    <tr>\n",
       "      <th>7</th>\n",
       "      <td>321.0</td>\n",
       "      <td>171.0</td>\n",
       "      <td>307.0</td>\n",
       "      <td>74.0</td>\n",
       "      <td>226.0</td>\n",
       "      <td>492.0</td>\n",
       "      <td>0.0</td>\n",
       "      <td>146.0</td>\n",
       "    </tr>\n",
       "    <tr>\n",
       "      <th>8</th>\n",
       "      <td>175.0</td>\n",
       "      <td>25.0</td>\n",
       "      <td>161.0</td>\n",
       "      <td>209.0</td>\n",
       "      <td>247.0</td>\n",
       "      <td>346.0</td>\n",
       "      <td>135.0</td>\n",
       "      <td>0.0</td>\n",
       "    </tr>\n",
       "  </tbody>\n",
       "</table>\n",
       "</div>"
      ],
      "text/plain": [
       "       1      2      3      4      5      6      7      8\n",
       "1    0.0  134.0  204.0  313.0   72.0  171.0  239.0  263.0\n",
       "2  150.0    0.0  136.0  290.0  222.0  321.0  216.0  309.0\n",
       "3  348.0  198.0    0.0  173.0  306.0  519.0   80.0  173.0\n",
       "4  336.0  186.0  322.0    0.0  152.0  507.0  319.0  343.0\n",
       "5  366.0  216.0  352.0  241.0    0.0  537.0  167.0  191.0\n",
       "6  381.0  231.0   33.0  168.0  320.0    0.0   94.0  206.0\n",
       "7  321.0  171.0  307.0   74.0  226.0  492.0    0.0  146.0\n",
       "8  175.0   25.0  161.0  209.0  247.0  346.0  135.0    0.0"
      ]
     },
     "execution_count": 537,
     "metadata": {},
     "output_type": "execute_result"
    }
   ],
   "source": [
    "z"
   ]
  },
  {
   "cell_type": "markdown",
   "metadata": {},
   "source": [
    "> I have defined the edges between nodes then I have created an networkx graph by using  `DiGraph()`.I needed to convert the list to distance matrix so I have created an convert function `sync()` and I have demonstrated my matrix in a `DataFrame`.After all I started the make an algorith that takes the distance matrix and find the shortest path between the nodes.I have given some big numbers as dummies to 0 points to ignore them while running algorithm.The key point was while finding the shortest path, the algorithm has to visit each node only single time and all nodes has to be visited.All in all, the algorithm has worked succesfully and I got 8 diffrent result depending on the start points.I observed that starting from the 6 is the best for touring all nodes."
   ]
  },
  {
   "cell_type": "markdown",
   "metadata": {},
   "source": [
    "<div style=\"text-align: right\"> Doğaç TOPAY <br> 20170703029 </div>"
   ]
  }
 ],
 "metadata": {
  "kernelspec": {
   "display_name": "Python 3",
   "language": "python",
   "name": "python3"
  },
  "language_info": {
   "codemirror_mode": {
    "name": "ipython",
    "version": 3
   },
   "file_extension": ".py",
   "mimetype": "text/x-python",
   "name": "python",
   "nbconvert_exporter": "python",
   "pygments_lexer": "ipython3",
   "version": "3.6.5"
  }
 },
 "nbformat": 4,
 "nbformat_minor": 4
}
